{
 "cells": [
  {
   "cell_type": "code",
   "execution_count": 2,
   "metadata": {},
   "outputs": [],
   "source": [
    "import json\n",
    "import pandas as pd"
   ]
  },
  {
   "cell_type": "code",
   "execution_count": 4,
   "metadata": {},
   "outputs": [],
   "source": [
    "data = pd.read_csv('analysis/data/draft_order.csv')"
   ]
  },
  {
   "cell_type": "code",
   "execution_count": 5,
   "metadata": {},
   "outputs": [
    {
     "data": {
      "text/html": [
       "<div>\n",
       "<style scoped>\n",
       "    .dataframe tbody tr th:only-of-type {\n",
       "        vertical-align: middle;\n",
       "    }\n",
       "\n",
       "    .dataframe tbody tr th {\n",
       "        vertical-align: top;\n",
       "    }\n",
       "\n",
       "    .dataframe thead th {\n",
       "        text-align: right;\n",
       "    }\n",
       "</style>\n",
       "<table border=\"1\" class=\"dataframe\">\n",
       "  <thead>\n",
       "    <tr style=\"text-align: right;\">\n",
       "      <th></th>\n",
       "      <th>draftRank</th>\n",
       "      <th>eligibleSlots</th>\n",
       "      <th>playerId</th>\n",
       "      <th>name</th>\n",
       "      <th>projPoints</th>\n",
       "    </tr>\n",
       "  </thead>\n",
       "  <tbody>\n",
       "    <tr>\n",
       "      <th>0</th>\n",
       "      <td>1</td>\n",
       "      <td>[11, 12, 13, 14, 16, 17]</td>\n",
       "      <td>39832</td>\n",
       "      <td>Shohei Ohtani</td>\n",
       "      <td>588.0</td>\n",
       "    </tr>\n",
       "    <tr>\n",
       "      <th>1</th>\n",
       "      <td>2</td>\n",
       "      <td>[10, 5, 12, 16, 17]</td>\n",
       "      <td>36969</td>\n",
       "      <td>Juan Soto</td>\n",
       "      <td>602.0</td>\n",
       "    </tr>\n",
       "    <tr>\n",
       "      <th>2</th>\n",
       "      <td>3</td>\n",
       "      <td>[13, 14, 16, 17]</td>\n",
       "      <td>32081</td>\n",
       "      <td>Gerrit Cole</td>\n",
       "      <td>629.0</td>\n",
       "    </tr>\n",
       "    <tr>\n",
       "      <th>3</th>\n",
       "      <td>4</td>\n",
       "      <td>[3, 7, 19, 11, 12, 16, 17]</td>\n",
       "      <td>32801</td>\n",
       "      <td>Jose Ramirez</td>\n",
       "      <td>676.0</td>\n",
       "    </tr>\n",
       "    <tr>\n",
       "      <th>4</th>\n",
       "      <td>5</td>\n",
       "      <td>[13, 14, 16, 17]</td>\n",
       "      <td>39878</td>\n",
       "      <td>Corbin Burnes</td>\n",
       "      <td>613.0</td>\n",
       "    </tr>\n",
       "  </tbody>\n",
       "</table>\n",
       "</div>"
      ],
      "text/plain": [
       "   draftRank               eligibleSlots  playerId           name  projPoints\n",
       "0          1    [11, 12, 13, 14, 16, 17]     39832  Shohei Ohtani       588.0\n",
       "1          2         [10, 5, 12, 16, 17]     36969      Juan Soto       602.0\n",
       "2          3            [13, 14, 16, 17]     32081    Gerrit Cole       629.0\n",
       "3          4  [3, 7, 19, 11, 12, 16, 17]     32801   Jose Ramirez       676.0\n",
       "4          5            [13, 14, 16, 17]     39878  Corbin Burnes       613.0"
      ]
     },
     "execution_count": 5,
     "metadata": {},
     "output_type": "execute_result"
    }
   ],
   "source": [
    "# drop the first column\n",
    "data = data.drop(data.columns[0], axis=1)\n",
    "data.head(5)"
   ]
  },
  {
   "cell_type": "code",
   "execution_count": 15,
   "metadata": {},
   "outputs": [
    {
     "data": {
      "text/html": [
       "<div>\n",
       "<style scoped>\n",
       "    .dataframe tbody tr th:only-of-type {\n",
       "        vertical-align: middle;\n",
       "    }\n",
       "\n",
       "    .dataframe tbody tr th {\n",
       "        vertical-align: top;\n",
       "    }\n",
       "\n",
       "    .dataframe thead th {\n",
       "        text-align: right;\n",
       "    }\n",
       "</style>\n",
       "<table border=\"1\" class=\"dataframe\">\n",
       "  <thead>\n",
       "    <tr style=\"text-align: right;\">\n",
       "      <th></th>\n",
       "      <th>draftRank</th>\n",
       "      <th>eligibleSlots</th>\n",
       "      <th>playerId</th>\n",
       "      <th>name</th>\n",
       "      <th>projPoints</th>\n",
       "      <th>c</th>\n",
       "      <th>1b</th>\n",
       "      <th>2b</th>\n",
       "      <th>3b</th>\n",
       "      <th>ss</th>\n",
       "      <th>of</th>\n",
       "      <th>dh</th>\n",
       "      <th>sp</th>\n",
       "      <th>rp</th>\n",
       "    </tr>\n",
       "  </thead>\n",
       "  <tbody>\n",
       "    <tr>\n",
       "      <th>0</th>\n",
       "      <td>1</td>\n",
       "      <td>[11, 12, 13, 14, 16, 17]</td>\n",
       "      <td>39832</td>\n",
       "      <td>Shohei Ohtani</td>\n",
       "      <td>588.0</td>\n",
       "      <td>False</td>\n",
       "      <td>True</td>\n",
       "      <td>True</td>\n",
       "      <td>True</td>\n",
       "      <td>True</td>\n",
       "      <td>False</td>\n",
       "      <td>True</td>\n",
       "      <td>True</td>\n",
       "      <td>False</td>\n",
       "    </tr>\n",
       "    <tr>\n",
       "      <th>1</th>\n",
       "      <td>2</td>\n",
       "      <td>[10, 5, 12, 16, 17]</td>\n",
       "      <td>36969</td>\n",
       "      <td>Juan Soto</td>\n",
       "      <td>602.0</td>\n",
       "      <td>True</td>\n",
       "      <td>True</td>\n",
       "      <td>True</td>\n",
       "      <td>False</td>\n",
       "      <td>False</td>\n",
       "      <td>True</td>\n",
       "      <td>False</td>\n",
       "      <td>False</td>\n",
       "      <td>False</td>\n",
       "    </tr>\n",
       "    <tr>\n",
       "      <th>2</th>\n",
       "      <td>3</td>\n",
       "      <td>[13, 14, 16, 17]</td>\n",
       "      <td>32081</td>\n",
       "      <td>Gerrit Cole</td>\n",
       "      <td>629.0</td>\n",
       "      <td>False</td>\n",
       "      <td>True</td>\n",
       "      <td>False</td>\n",
       "      <td>True</td>\n",
       "      <td>True</td>\n",
       "      <td>False</td>\n",
       "      <td>False</td>\n",
       "      <td>True</td>\n",
       "      <td>False</td>\n",
       "    </tr>\n",
       "    <tr>\n",
       "      <th>3</th>\n",
       "      <td>4</td>\n",
       "      <td>[3, 7, 19, 11, 12, 16, 17]</td>\n",
       "      <td>32801</td>\n",
       "      <td>Jose Ramirez</td>\n",
       "      <td>676.0</td>\n",
       "      <td>False</td>\n",
       "      <td>True</td>\n",
       "      <td>True</td>\n",
       "      <td>True</td>\n",
       "      <td>False</td>\n",
       "      <td>False</td>\n",
       "      <td>True</td>\n",
       "      <td>False</td>\n",
       "      <td>False</td>\n",
       "    </tr>\n",
       "    <tr>\n",
       "      <th>4</th>\n",
       "      <td>5</td>\n",
       "      <td>[13, 14, 16, 17]</td>\n",
       "      <td>39878</td>\n",
       "      <td>Corbin Burnes</td>\n",
       "      <td>613.0</td>\n",
       "      <td>False</td>\n",
       "      <td>True</td>\n",
       "      <td>False</td>\n",
       "      <td>True</td>\n",
       "      <td>True</td>\n",
       "      <td>False</td>\n",
       "      <td>False</td>\n",
       "      <td>True</td>\n",
       "      <td>False</td>\n",
       "    </tr>\n",
       "  </tbody>\n",
       "</table>\n",
       "</div>"
      ],
      "text/plain": [
       "  draftRank               eligibleSlots playerId           name projPoints  \\\n",
       "0         1    [11, 12, 13, 14, 16, 17]    39832  Shohei Ohtani      588.0   \n",
       "1         2         [10, 5, 12, 16, 17]    36969      Juan Soto      602.0   \n",
       "2         3            [13, 14, 16, 17]    32081    Gerrit Cole      629.0   \n",
       "3         4  [3, 7, 19, 11, 12, 16, 17]    32801   Jose Ramirez      676.0   \n",
       "4         5            [13, 14, 16, 17]    39878  Corbin Burnes      613.0   \n",
       "\n",
       "       c    1b     2b     3b     ss     of     dh     sp     rp  \n",
       "0  False  True   True   True   True  False   True   True  False  \n",
       "1   True  True   True  False  False   True  False  False  False  \n",
       "2  False  True  False   True   True  False  False   True  False  \n",
       "3  False  True   True   True  False  False   True  False  False  \n",
       "4  False  True  False   True   True  False  False   True  False  "
      ]
     },
     "execution_count": 15,
     "metadata": {},
     "output_type": "execute_result"
    }
   ],
   "source": [
    "# We will extend the draft data with a one-hot encoding of the player's eligible positions\n",
    "posEligData = pd.DataFrame()\n",
    "for row in data.iterrows():\n",
    "  newRow = pd.Series(\n",
    "    {\n",
    "      **row[1],\n",
    "      \"c\": True if '0' in row[1][1] else False,\n",
    "      \"1b\": True if '1' in row[1][1] else False,\n",
    "      \"2b\": True if '2' in row[1][1] else False,\n",
    "      \"3b\": True if '3' in row[1][1] else False,\n",
    "      \"ss\": True if '4' in row[1][1] else False,\n",
    "      \"of\": True if '5' in row[1][1] else False,\n",
    "      \"dh\": True if '11' in row[1][1] else False,\n",
    "      \"sp\": True if '14' in row[1][1] else False,\n",
    "      \"rp\": True if '15' in row[1][1] else False,\n",
    "    }\n",
    "  )\n",
    "\n",
    "  posEligData = pd.concat([posEligData, newRow], axis=1)\n",
    "\n",
    "posEligData = posEligData.T\n",
    "posEligData = posEligData.reset_index(drop=True)\n",
    "posEligData.head(5)"
   ]
  },
  {
   "cell_type": "code",
   "execution_count": 12,
   "metadata": {},
   "outputs": [
    {
     "name": "stdout",
     "output_type": "stream",
     "text": [
      "There will be 324 picks over 27 rounds\n"
     ]
    }
   ],
   "source": [
    "# Assemble a list that contains the order of each pick in the draft\n",
    "draft_order_list = []\n",
    "\n",
    "# We will use the draft-order.json file which describes the order that Fantasy teams will pick in the draft\n",
    "with open('analysis/data/draft-order-2023.json', 'r') as f:\n",
    "  draft_order = json.load(f)\n",
    "  draft_order = sorted(draft_order, key=lambda k: k['draftOrder'])\n",
    "  rounds = 27\n",
    "\n",
    "  # We will loop through the draft order and add the team name to the list for each pick\n",
    "  # There will be some conditions applied to account for the \"snake\" draft order pattern\n",
    "  for i in range(rounds):\n",
    "    reverse_toggle = i % 2\n",
    "\n",
    "    if i < 3:\n",
    "      reverse_toggle = 1\n",
    "\n",
    "    if reverse_toggle == 1:\n",
    "      for player in draft_order:\n",
    "        draft_order_list.append(player['teamName'])\n",
    "    elif reverse_toggle == 0:\n",
    "      for player in draft_order[::-1]:\n",
    "        draft_order_list.append(player['teamName'])\n",
    "\n",
    "print(\"There will be\", len(draft_order_list), \"picks over\", int(len(draft_order_list) / len(draft_order)), \"rounds\")"
   ]
  },
  {
   "cell_type": "code",
   "execution_count": 31,
   "metadata": {},
   "outputs": [],
   "source": [
    "predicted_draft_picks = [{'teamName': team['teamName'], 'picks': []} for team in draft_order]"
   ]
  },
  {
   "cell_type": "code",
   "execution_count": null,
   "metadata": {},
   "outputs": [],
   "source": [
    "def generatePick(picker, pick_number, current_pick_list, remaining_picks, full_draft_board):\n",
    "  owners_current_picks = [pick['picks'] for pick in current_pick_list if pick['teamName'] == picker]\n",
    "  position_starters_config = {\"c\": 1, \"1b\": 1, \"2b\": 1, \"3b\": 1, \"ss\": 1, \"of\": 3, \"dh\": 1, \"sp\": 6, \"rp\": 3, \"UTIL\": 4, \"BENCH\": 5}\n",
    "  # we are going to generate a \"need\" score for each position based on how many players of that position have already been drafted by the team owner\n",
    "  pos_scores = {\"c\": 1, \"1b\": 1, \"2b\": 1, \"3b\": 1, \"ss\": 1, \"of\": 1, \"dh\": 1, \"sp\": 1, \"rp\": 1}\n",
    "  for pick in owners_current_picks:\n",
    "    player = full_draft_board.loc[full_draft_board['playerId'] == pick[0]['playerId']]\n",
    "    players_pos = [index for index, pos in player[['c', '1b', '2b', '3b', 'ss', 'of', 'dh', 'sp', 'rp']].items() if pos == True]\n",
    "    for pos in players_pos:\n",
    "      if pos in ['c', '1b', '2b', '3b', 'ss', 'of', 'dh']:\n",
    "        pos_scores[pos] -= lambda x: sum({k: v for k, v in position_starters_config.items() if k in [pos, 'UTIL', 'BENCH']}.values()) / sum({k: v for k, v in position_starters_config.items() if k in ['c', '1b', '2b', '3b', 'ss', 'of', 'dh', 'UTIL', 'BENCH']}.values())\n",
    "      elif pos in ['sp', 'rp']:\n",
    "        pos_scores[pos] -= lambda x: sum({k: v for k, v in position_starters_config.items() if k in [pos, 'BENCH']}.values()) / sum({k: v for k, v in position_starters_config.items() if k in ['sp', 'rp', 'BENCH']}.values())"
   ]
  },
  {
   "cell_type": "code",
   "execution_count": 136,
   "metadata": {},
   "outputs": [
    {
     "ename": "NameError",
     "evalue": "name 'generatePick' is not defined",
     "output_type": "error",
     "traceback": [
      "\u001b[0;31m---------------------------------------------------------------------------\u001b[0m",
      "\u001b[0;31mNameError\u001b[0m                                 Traceback (most recent call last)",
      "Cell \u001b[0;32mIn[136], line 5\u001b[0m\n\u001b[1;32m      3\u001b[0m \u001b[39mfor\u001b[39;00m team \u001b[39min\u001b[39;00m predicted_draft_picks:\n\u001b[1;32m      4\u001b[0m   \u001b[39mif\u001b[39;00m team[\u001b[39m'\u001b[39m\u001b[39mteamName\u001b[39m\u001b[39m'\u001b[39m] \u001b[39m==\u001b[39m picker:\n\u001b[0;32m----> 5\u001b[0m     pick_index \u001b[39m=\u001b[39m generatePick(picker, pick_number, predicted_draft_picks, posEligData, data)\n\u001b[1;32m      6\u001b[0m     team[\u001b[39m'\u001b[39m\u001b[39mpicks\u001b[39m\u001b[39m'\u001b[39m]\u001b[39m.\u001b[39mappend(posEligData\u001b[39m.\u001b[39miloc[pick_index][[\u001b[39m'\u001b[39m\u001b[39mplayerId\u001b[39m\u001b[39m'\u001b[39m, \u001b[39m'\u001b[39m\u001b[39mname\u001b[39m\u001b[39m'\u001b[39m]]\u001b[39m.\u001b[39mto_dict())\n\u001b[1;32m      7\u001b[0m     posEligData \u001b[39m=\u001b[39m posEligData\u001b[39m.\u001b[39mdrop(pick_index)\n",
      "\u001b[0;31mNameError\u001b[0m: name 'generatePick' is not defined"
     ]
    }
   ],
   "source": [
    "pick_number = 1\n",
    "for picker in draft_order_list:\n",
    "  for team in predicted_draft_picks:\n",
    "    if team['teamName'] == picker:\n",
    "      pick_index = generatePick(picker, pick_number, predicted_draft_picks, posEligData, data)\n",
    "      team['picks'].append(posEligData.iloc[pick_index][['playerId', 'name']].to_dict())\n",
    "      posEligData = posEligData.drop(pick_index)\n",
    "      pick_number += 1\n"
   ]
  },
  {
   "cell_type": "code",
   "execution_count": 147,
   "metadata": {},
   "outputs": [],
   "source": [
    "position_starters_config = {\"c\": 1, \"1b\": 1, \"2b\": 1, \"3b\": 1, \"ss\": 1, \"of\": 3, \"dh\": 1, \"sp\": 6, \"rp\": 3, \"UTIL\": 4, \"BENCH\": 5}\n",
    "pos_scores = {\"c\": 1, \"1b\": 1, \"2b\": 1, \"3b\": 1, \"ss\": 1, \"of\": 1, \"dh\": 1, \"sp\": 1, \"rp\": 1}"
   ]
  },
  {
   "cell_type": "code",
   "execution_count": 154,
   "metadata": {},
   "outputs": [],
   "source": [
    "pos = 'of'\n",
    "if pos in ['c', '1b', '2b', '3b', 'ss', 'of', 'dh']:\n",
    "  pos_scores[pos] -= (1 / 27) * sum({k: v for k, v in position_starters_config.items() if k in [pos, 'UTIL', 'BENCH']}.values())\n",
    "elif pos in ['sp', 'rp']:\n",
    "  pos_scores[pos] -= (1 / 27) * sum({k: v for k, v in position_starters_config.items() if k in [pos, 'BENCH']}.values())"
   ]
  },
  {
   "cell_type": "code",
   "execution_count": 155,
   "metadata": {},
   "outputs": [
    {
     "data": {
      "text/plain": [
       "{'c': -0.11111111111111105,\n",
       " '1b': 1,\n",
       " '2b': 1,\n",
       " '3b': 1,\n",
       " 'ss': 1,\n",
       " 'of': 0.5555555555555556,\n",
       " 'dh': 1,\n",
       " 'sp': 1,\n",
       " 'rp': 1}"
      ]
     },
     "execution_count": 155,
     "metadata": {},
     "output_type": "execute_result"
    }
   ],
   "source": [
    "pos_scores"
   ]
  },
  {
   "cell_type": "code",
   "execution_count": null,
   "metadata": {},
   "outputs": [],
   "source": []
  }
 ],
 "metadata": {
  "kernelspec": {
   "display_name": "notebook-vAY_1t31",
   "language": "python",
   "name": "python3"
  },
  "language_info": {
   "codemirror_mode": {
    "name": "ipython",
    "version": 3
   },
   "file_extension": ".py",
   "mimetype": "text/x-python",
   "name": "python",
   "nbconvert_exporter": "python",
   "pygments_lexer": "ipython3",
   "version": "3.9.12"
  },
  "orig_nbformat": 4
 },
 "nbformat": 4,
 "nbformat_minor": 2
}
