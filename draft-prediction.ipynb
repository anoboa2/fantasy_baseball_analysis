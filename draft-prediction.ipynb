{
 "cells": [
  {
   "attachments": {},
   "cell_type": "markdown",
   "metadata": {},
   "source": [
    "## Proposed features for weights and biases\n",
    "Draft Rank = 35% <br>\n",
    "Projected Season Points = 25% <br>\n",
    "Positions needing to be filled on the team = 15% <br>\n",
    "Position Value = 10% <br>\n",
    "Drafter's Pro Team Preferences = 7% <br>\n",
    "Player Injury Implications = 6% <br>\n",
    "Star Power = 4% <br>"
   ]
  },
  {
   "cell_type": "code",
   "execution_count": 1,
   "metadata": {},
   "outputs": [],
   "source": [
    "import json\n",
    "import ast\n",
    "import numpy as np\n",
    "import pandas as pd\n",
    "from sklearn import preprocessing"
   ]
  },
  {
   "cell_type": "code",
   "execution_count": 2,
   "metadata": {},
   "outputs": [],
   "source": [
    "# pull in our data from the csv\n",
    "data = pd.read_csv('analysis/data/draft-players-2023.csv')"
   ]
  },
  {
   "cell_type": "code",
   "execution_count": 3,
   "metadata": {},
   "outputs": [
    {
     "data": {
      "text/html": [
       "<div>\n",
       "<style scoped>\n",
       "    .dataframe tbody tr th:only-of-type {\n",
       "        vertical-align: middle;\n",
       "    }\n",
       "\n",
       "    .dataframe tbody tr th {\n",
       "        vertical-align: top;\n",
       "    }\n",
       "\n",
       "    .dataframe thead th {\n",
       "        text-align: right;\n",
       "    }\n",
       "</style>\n",
       "<table border=\"1\" class=\"dataframe\">\n",
       "  <thead>\n",
       "    <tr style=\"text-align: right;\">\n",
       "      <th></th>\n",
       "      <th>draftRank</th>\n",
       "      <th>eligibleSlots</th>\n",
       "      <th>playerId</th>\n",
       "      <th>name</th>\n",
       "      <th>projPoints</th>\n",
       "    </tr>\n",
       "  </thead>\n",
       "  <tbody>\n",
       "    <tr>\n",
       "      <th>0</th>\n",
       "      <td>1</td>\n",
       "      <td>[11, 12, 13, 14, 16, 17]</td>\n",
       "      <td>39832</td>\n",
       "      <td>Shohei Ohtani</td>\n",
       "      <td>588.0</td>\n",
       "    </tr>\n",
       "    <tr>\n",
       "      <th>1</th>\n",
       "      <td>2</td>\n",
       "      <td>[10, 5, 12, 16, 17]</td>\n",
       "      <td>36969</td>\n",
       "      <td>Juan Soto</td>\n",
       "      <td>602.0</td>\n",
       "    </tr>\n",
       "    <tr>\n",
       "      <th>2</th>\n",
       "      <td>3</td>\n",
       "      <td>[13, 14, 16, 17]</td>\n",
       "      <td>32081</td>\n",
       "      <td>Gerrit Cole</td>\n",
       "      <td>629.0</td>\n",
       "    </tr>\n",
       "    <tr>\n",
       "      <th>3</th>\n",
       "      <td>4</td>\n",
       "      <td>[3, 7, 19, 11, 12, 16, 17]</td>\n",
       "      <td>32801</td>\n",
       "      <td>Jose Ramirez</td>\n",
       "      <td>676.0</td>\n",
       "    </tr>\n",
       "    <tr>\n",
       "      <th>4</th>\n",
       "      <td>5</td>\n",
       "      <td>[13, 14, 16, 17]</td>\n",
       "      <td>39878</td>\n",
       "      <td>Corbin Burnes</td>\n",
       "      <td>613.0</td>\n",
       "    </tr>\n",
       "  </tbody>\n",
       "</table>\n",
       "</div>"
      ],
      "text/plain": [
       "   draftRank               eligibleSlots  playerId           name  projPoints\n",
       "0          1    [11, 12, 13, 14, 16, 17]     39832  Shohei Ohtani       588.0\n",
       "1          2         [10, 5, 12, 16, 17]     36969      Juan Soto       602.0\n",
       "2          3            [13, 14, 16, 17]     32081    Gerrit Cole       629.0\n",
       "3          4  [3, 7, 19, 11, 12, 16, 17]     32801   Jose Ramirez       676.0\n",
       "4          5            [13, 14, 16, 17]     39878  Corbin Burnes       613.0"
      ]
     },
     "execution_count": 3,
     "metadata": {},
     "output_type": "execute_result"
    }
   ],
   "source": [
    "# The first column is the original indexes which are not needed, so we will drop it\n",
    "data = data.drop(data.columns[0], axis=1)\n",
    "data.head(5)"
   ]
  },
  {
   "cell_type": "code",
   "execution_count": 4,
   "metadata": {},
   "outputs": [
    {
     "name": "stdout",
     "output_type": "stream",
     "text": [
      "The total projected points ESPN has calculated for all players in the 2023 season is: 150,474\n"
     ]
    }
   ],
   "source": [
    "all_projected_points = data['projPoints'].sum()\n",
    "print(\"The total projected points ESPN has calculated for all players in the 2023 season is:\", f'{int(all_projected_points):,}')"
   ]
  },
  {
   "attachments": {},
   "cell_type": "markdown",
   "metadata": {},
   "source": [
    "## Position analysis\n",
    "For each position that will be used in our league, we are going to evaluate the strength and value of players in those positions.\n",
    "The positions our league uses is: Catcher, 1B, 2B, 3B, SS, 3 OF, DH, 4 Utility, and 9 Pitchers\n",
    "SP are limited to 8 starts per week, so it is best to plan to have 6 SP and 3 RP\n",
    "\n",
    "We are going to aggregate the following statistics:\n",
    "- **Position Weight** = Projected fantasy score / Total fantasy point projections\n",
    "- **Normalized Position Weight** = Position weight on a normalized scale\n",
    "- **Max Projected Points** = Maximum amount of projected fantasy points for a player in this position\n",
    "- **Min Projected Points** = The amount of fantasy points the lowest scoring drafted player would be projected to earn.  This is calculated as n = (# of starters for position * # of teams in league).  Ascending sorted projected fantasy players\\[n]\n",
    "\n"
   ]
  },
  {
   "cell_type": "code",
   "execution_count": 5,
   "metadata": {},
   "outputs": [],
   "source": [
    "# create an object of each position and their ID using the positions lookup file\n",
    "position_map = {}\n",
    "with open('lookups/espn-positions-map.json') as f:\n",
    "  position_map = json.load(f)"
   ]
  },
  {
   "cell_type": "code",
   "execution_count": 6,
   "metadata": {},
   "outputs": [],
   "source": [
    "# We will manually configure which IDs are being used by our league for positions\n",
    "# and how many starters we want to have at each position to filter our positions object\n",
    "starter_position_ids = [0, 1, 2, 3, 4, 5, 11, 14, 15]\n",
    "position_starters_config = {\"c\": 1, \"1b\": 1, \"2b\": 1, \"3b\": 1, \"ss\": 1, \"of\": 3, \"dh\": 1, \"sp\": 6, \"rp\": 3, \"UTIL\": 4, \"BENCH\": 5}\n",
    "\n",
    "position_map = {k: v for k, v in position_map.items() if v['posId'] in starter_position_ids}\n",
    "# Note: we just removed UTIL and BENCH from the position map, even though they exist in the starters_config dict\n",
    "# This is appropriate for our up front calculations, but we will still consider this data later\n",
    "\n",
    "# appending the starters allowed to each position\n",
    "for k, v in position_map.items():\n",
    "  position_map[k]['startersAllowed'] = position_starters_config[str(v['abbrev']).lower()]"
   ]
  },
  {
   "cell_type": "code",
   "execution_count": 7,
   "metadata": {},
   "outputs": [],
   "source": [
    "# We are going to do some analysis on each positon and update it to the position_map object\n",
    "for position in starter_position_ids:\n",
    "\n",
    "  # subset all player data based on who is eligible for the position sorted by projected points\n",
    "  position_eligible_players = [values for index, values in data.iterrows() if position in ast.literal_eval(values['eligibleSlots'])]\n",
    "  position_eligible_players = sorted(position_eligible_players, key=lambda k: k['projPoints'], reverse=True)\n",
    "\n",
    "  # parse the max projected points, min projected points, and total projected points for the position\n",
    "  max_projected_points = position_eligible_players[0]['projPoints']\n",
    "  min_projected_points = position_eligible_players[(position_map[str(position)]['startersAllowed']*12)+1]['projPoints']\n",
    "  sum_projected_points = sum([float(player['projPoints']) for player in position_eligible_players])\n",
    "\n",
    "  # save each data point to the position_map object\n",
    "  position_map[str(position)]['totalProjectedPoints'] = sum_projected_points\n",
    "  position_map[str(position)]['maxProjectedPoints'] = max_projected_points\n",
    "  position_map[str(position)]['minProjectedPoints'] = min_projected_points"
   ]
  },
  {
   "cell_type": "code",
   "execution_count": 8,
   "metadata": {},
   "outputs": [
    {
     "data": {
      "text/plain": [
       "{'posId': 0,\n",
       " 'name': 'Catcher',\n",
       " 'abbrev': 'C',\n",
       " 'startersAllowed': 1,\n",
       " 'totalProjectedPoints': 10139.5,\n",
       " 'maxProjectedPoints': 452.5,\n",
       " 'minProjectedPoints': 316.5}"
      ]
     },
     "execution_count": 8,
     "metadata": {},
     "output_type": "execute_result"
    }
   ],
   "source": [
    "# Let's take a look at an updated entry from the position_map object\n",
    "position_map['0']"
   ]
  },
  {
   "cell_type": "code",
   "execution_count": 9,
   "metadata": {},
   "outputs": [],
   "source": [
    "# We are going to calculate how many points each position is projected to contribute\n",
    "# to overall scoring this year and turn that into a weighted score\n",
    "for k, v in position_map.items():\n",
    "  v['overallWeight'] = v['totalProjectedPoints'] / all_projected_points"
   ]
  },
  {
   "cell_type": "code",
   "execution_count": 10,
   "metadata": {},
   "outputs": [],
   "source": [
    "# In order to do accurate analysis, we are also going to observe the normalized weight for each position\n",
    "pos_points_list = [v['totalProjectedPoints'] for k, v in position_map.items()]\n",
    "norm_pos_points_list = preprocessing.normalize([pos_points_list])[0]\n",
    "position_map = [{**v, **{'normalizedPositionValue': norm_pos_points_list[i]}} for i, (k, v) in enumerate(position_map.items())]"
   ]
  },
  {
   "cell_type": "code",
   "execution_count": 11,
   "metadata": {},
   "outputs": [
    {
     "name": "stdout",
     "output_type": "stream",
     "text": [
      "Total Points: [10139.5, 15608.0, 15170.5, 16141.0, 13826.5, 35857.5, 22173.5, 43800.0, 18474.5]\n",
      "Normalized Points: [0.14246494 0.21930005 0.21315296 0.22678896 0.1942691  0.50381544\n",
      " 0.31154854 0.61541146 0.25957578]\n"
     ]
    },
    {
     "data": {
      "text/plain": [
       "{'posId': 0,\n",
       " 'name': 'Catcher',\n",
       " 'abbrev': 'C',\n",
       " 'startersAllowed': 1,\n",
       " 'totalProjectedPoints': 10139.5,\n",
       " 'maxProjectedPoints': 452.5,\n",
       " 'minProjectedPoints': 316.5,\n",
       " 'overallWeight': 0.0673837340670149,\n",
       " 'normalizedPositionValue': 0.14246494211383717}"
      ]
     },
     "execution_count": 11,
     "metadata": {},
     "output_type": "execute_result"
    }
   ],
   "source": [
    "print(\"Total Points:\", pos_points_list)\n",
    "print(\"Normalized Points:\", norm_pos_points_list)\n",
    "position_map[0]"
   ]
  },
  {
   "attachments": {},
   "cell_type": "markdown",
   "metadata": {},
   "source": [
    "## Evaluate Players:\n",
    "We are going to weight the following features for individual players:\n",
    "- What is the rank of the player compared to all projected points in their position\n",
    "- Handle multiple positions through an averaging algorithm\n",
    "- What is the normalized |weight of a players projected fantasy points\n",
    "- How much of a negative impact to other teams does drafting the player create?"
   ]
  },
  {
   "cell_type": "code",
   "execution_count": 12,
   "metadata": {},
   "outputs": [
    {
     "data": {
      "text/html": [
       "<div>\n",
       "<style scoped>\n",
       "    .dataframe tbody tr th:only-of-type {\n",
       "        vertical-align: middle;\n",
       "    }\n",
       "\n",
       "    .dataframe tbody tr th {\n",
       "        vertical-align: top;\n",
       "    }\n",
       "\n",
       "    .dataframe thead th {\n",
       "        text-align: right;\n",
       "    }\n",
       "</style>\n",
       "<table border=\"1\" class=\"dataframe\">\n",
       "  <thead>\n",
       "    <tr style=\"text-align: right;\">\n",
       "      <th></th>\n",
       "      <th>draftRank</th>\n",
       "      <th>eligibleSlots</th>\n",
       "      <th>playerId</th>\n",
       "      <th>name</th>\n",
       "      <th>projPoints</th>\n",
       "      <th>overallPositionalValue</th>\n",
       "    </tr>\n",
       "  </thead>\n",
       "  <tbody>\n",
       "    <tr>\n",
       "      <th>0</th>\n",
       "      <td>1</td>\n",
       "      <td>[11, 12, 13, 14, 16, 17]</td>\n",
       "      <td>39832</td>\n",
       "      <td>Shohei Ohtani</td>\n",
       "      <td>588.0</td>\n",
       "      <td>272.526238</td>\n",
       "    </tr>\n",
       "    <tr>\n",
       "      <th>1</th>\n",
       "      <td>2</td>\n",
       "      <td>[10, 5, 12, 16, 17]</td>\n",
       "      <td>36969</td>\n",
       "      <td>Juan Soto</td>\n",
       "      <td>602.0</td>\n",
       "      <td>303.296895</td>\n",
       "    </tr>\n",
       "    <tr>\n",
       "      <th>2</th>\n",
       "      <td>3</td>\n",
       "      <td>[13, 14, 16, 17]</td>\n",
       "      <td>32081</td>\n",
       "      <td>Gerrit Cole</td>\n",
       "      <td>629.0</td>\n",
       "      <td>387.093806</td>\n",
       "    </tr>\n",
       "    <tr>\n",
       "      <th>3</th>\n",
       "      <td>4</td>\n",
       "      <td>[3, 7, 19, 11, 12, 16, 17]</td>\n",
       "      <td>32801</td>\n",
       "      <td>Jose Ramirez</td>\n",
       "      <td>676.0</td>\n",
       "      <td>181.958073</td>\n",
       "    </tr>\n",
       "    <tr>\n",
       "      <th>4</th>\n",
       "      <td>5</td>\n",
       "      <td>[13, 14, 16, 17]</td>\n",
       "      <td>39878</td>\n",
       "      <td>Corbin Burnes</td>\n",
       "      <td>613.0</td>\n",
       "      <td>377.247223</td>\n",
       "    </tr>\n",
       "  </tbody>\n",
       "</table>\n",
       "</div>"
      ],
      "text/plain": [
       "   draftRank               eligibleSlots  playerId           name  projPoints  \\\n",
       "0          1    [11, 12, 13, 14, 16, 17]     39832  Shohei Ohtani       588.0   \n",
       "1          2         [10, 5, 12, 16, 17]     36969      Juan Soto       602.0   \n",
       "2          3            [13, 14, 16, 17]     32081    Gerrit Cole       629.0   \n",
       "3          4  [3, 7, 19, 11, 12, 16, 17]     32801   Jose Ramirez       676.0   \n",
       "4          5            [13, 14, 16, 17]     39878  Corbin Burnes       613.0   \n",
       "\n",
       "   overallPositionalValue  \n",
       "0              272.526238  \n",
       "1              303.296895  \n",
       "2              387.093806  \n",
       "3              181.958073  \n",
       "4              377.247223  "
      ]
     },
     "execution_count": 12,
     "metadata": {},
     "output_type": "execute_result"
    }
   ],
   "source": [
    "# loop through each player in our dataset and calculate their positional value\n",
    "for index, player in data.iterrows():\n",
    "  # identify the relevant starter positions for this player\n",
    "  players_positions = [position for position in ast.literal_eval(player['eligibleSlots']) if position in starter_position_ids]\n",
    "\n",
    "  # if there are multiple eligible positions, this will average them together\n",
    "  scores = []\n",
    "  for pos in players_positions:\n",
    "    position_stats = [position for position in position_map if position['posId'] == pos]\n",
    "    score = position_stats[0]['normalizedPositionValue'] * player['projPoints']\n",
    "    scores.append(score)\n",
    "  avg_score = np.mean(scores)\n",
    "\n",
    "  # update the player's positional value in our original dataset\n",
    "  data.loc[index, 'overallPositionalValue'] = avg_score\n",
    "\n",
    "data.head()"
   ]
  },
  {
   "attachments": {},
   "cell_type": "markdown",
   "metadata": {},
   "source": [
    "## Determine Position Needs\n",
    "- We will need to consider what fielding positions we still need on our team\n",
    "- This should consider what positions we've already picked\n",
    "- This should consider how much value is still left on the draft board for a given position at this moment in time\n",
    "- This should consider how much value will still be left on the board by time we get to the next pick\n",
    "* A super feature would be to predict, out of the most probable remaining draft pick outcomes from the current pick on, by all teams, which player at what pick delivers me the most value"
   ]
  },
  {
   "cell_type": "code",
   "execution_count": 13,
   "metadata": {},
   "outputs": [
    {
     "name": "stdout",
     "output_type": "stream",
     "text": [
      "The draft order is: ['BG 420', 'The Dissenters', \"Loser's Club L\", 'RIP Paulie Walnuts', 'Nomar Losing', 'Pecan Sandies', 'Rocket City Trash Pandas', '2-Time Champ Booch', 'Commissioner Getbot420', 'Big Trains', 'Hot Italian Snausages', 'Vandelay Industries']\n",
      "There will be 324 picks over 27 rounds\n"
     ]
    }
   ],
   "source": [
    "# First, we are going to define the draft order for this season\n",
    "draft_order_list = []\n",
    "\n",
    "# We will use the draft-order.json file which describes the order that Fantasy teams will pick in the draft\n",
    "with open('analysis/data/draft-order-2023.json', 'r') as f:\n",
    "  draft_order = json.load(f)\n",
    "  draft_order = sorted(draft_order, key=lambda k: k['draftOrder'])\n",
    "  print(\"The draft order is:\", [player['teamName'] for player in draft_order])\n",
    "  rounds = 27\n",
    "\n",
    "  # We will loop through the draft order and add the team name to the list for each pick\n",
    "  # There will be some conditions applied to account for the \"snake\" draft order pattern\n",
    "  for i in range(rounds):\n",
    "    reverse_toggle = i % 2\n",
    "\n",
    "    if i < 3:\n",
    "      reverse_toggle = 1\n",
    "\n",
    "    if reverse_toggle == 1:\n",
    "      for player in draft_order:\n",
    "        draft_order_list.append(player['teamName'])\n",
    "    elif reverse_toggle == 0:\n",
    "      for player in draft_order[::-1]:\n",
    "        draft_order_list.append(player['teamName'])\n",
    "\n",
    "print(\"There will be\", len(draft_order_list), \"picks over\", int(len(draft_order_list) / len(draft_order)), \"rounds\")"
   ]
  },
  {
   "attachments": {},
   "cell_type": "markdown",
   "metadata": {},
   "source": [
    "Formula for calculating position needs:\n",
    "$$\n",
    "  \\int \\frac{StartersNeeded - \\frac{PlayersOwnedForPosition}{PlayersEligiblePositions}}{BatterRosterSize -(PickNumber - 1)}\n",
    "$$"
   ]
  },
  {
   "cell_type": "code",
   "execution_count": null,
   "metadata": {},
   "outputs": [],
   "source": [
    "def determinePositionNeeds(picker, pick_number, current_pick_list, remaining_picks, full_draft_board):\n",
    "  \"\"\"\n",
    "  This function will generate a pick for the given picker\n",
    "  Parameters:\n",
    "    picker (str): The name of the team that is picking\n",
    "    pick_number (int): The number of the pick in the draft\n",
    "    current_pick_list (list): A list of dictionaries that contain the picks for each team\n",
    "    remaining_picks (list): A list of the remaining picks in the draft\n",
    "    full_draft_board (DataFrame): A DataFrame that contains the full draft board\n",
    "  \"\"\"\n",
    "  PICK_ROUND = np.ceil(pick_number / 12)\n",
    "  BATTER_ELIGIBLE_POSITIONS = [0, 1, 2, 3, 4, 5, 11, 12]\n",
    "  PITCHER_ELIGIBLE_POSITIONS = [14, 15]\n",
    "  \n",
    "  owners_current_picks = [pick['picks'] for pick in current_pick_list if pick['teamName'] == picker]\n",
    "  pos_scores = {\"c\": 1, \"1b\": 1, \"2b\": 1, \"3b\": 1, \"ss\": 1, \"of\": 1, \"dh\": 1, \"sp\": 1, \"rp\": 1}\n",
    "  for pick in owners_current_picks:\n",
    "    player = full_draft_board.loc[full_draft_board['playerId'] == pick[0]['playerId']]\n",
    "    num_eligible_positions = sum(player[['c', '1b', '2b', '3b', 'ss', 'of', 'dh', 'sp', 'rp']].values[0])\n",
    "    players_pos = [index for index, pos in player[['c', '1b', '2b', '3b', 'ss', 'of', 'dh', 'sp', 'rp']].items() if pos == True]\n",
    "    for pos in players_pos:\n",
    "      if pos in ['c', '1b', '2b', '3b', 'ss', 'of', 'dh']:\n",
    "        pos_scores[pos] -= position_starters_config.values() - (1 / sum([v['positions'] for k, v in current_pick_list.items() if v['positions'] in BATTER_ELIGIBLE_POSITIONS])) / (sum({k: v for k, v in position_starters_config.items() if k in ['c', '1b', '2b', '3b', 'ss', 'of', 'dh']}.values()) - (PICK_ROUND - 1))\n",
    "      elif pos in ['sp', 'rp']:\n",
    "        pos_scores[pos] -= lambda x: sum({k: v for k, v in position_starters_config.items() if k in [pos, 'BENCH']}.values()) / sum({k: v for k, v in position_starters_config.items() if k in ['sp', 'rp', 'BENCH']}.values())"
   ]
  },
  {
   "cell_type": "code",
   "execution_count": null,
   "metadata": {},
   "outputs": [],
   "source": [
    "predicted_draft_picks = [{'teamName': team['teamName'], 'picks': []} for team in draft_order]"
   ]
  },
  {
   "cell_type": "code",
   "execution_count": null,
   "metadata": {},
   "outputs": [],
   "source": [
    "def generatePick():\n",
    "  return"
   ]
  },
  {
   "cell_type": "code",
   "execution_count": null,
   "metadata": {},
   "outputs": [],
   "source": [
    "pick_number = 1\n",
    "for picker in draft_order_list:\n",
    "  for team in predicted_draft_picks:\n",
    "    if team['teamName'] == picker:\n",
    "      pick_index = generatePick(picker, pick_number, predicted_draft_picks, posEligData, data)\n",
    "      team['picks'].append(posEligData.iloc[pick_index][['playerId', 'name']].to_dict())\n",
    "      posEligData = posEligData.drop(pick_index)\n",
    "      pick_number += 1\n",
    "      team['picks'] = sorted(team['picks'], key=lambda k: k['playerId'])\n"
   ]
  },
  {
   "cell_type": "code",
   "execution_count": null,
   "metadata": {},
   "outputs": [],
   "source": [
    "formula = sum({k: v for k, v in position_starters_config.items() if k in batter_pos}.values()) - sum({pick['name'] for pick in current_pick_list}.values())"
   ]
  },
  {
   "cell_type": "code",
   "execution_count": null,
   "metadata": {},
   "outputs": [],
   "source": []
  }
 ],
 "metadata": {
  "kernelspec": {
   "display_name": "fantasy_baseball_analysis-VE8r5S0N",
   "language": "python",
   "name": "python3"
  },
  "language_info": {
   "codemirror_mode": {
    "name": "ipython",
    "version": 3
   },
   "file_extension": ".py",
   "mimetype": "text/x-python",
   "name": "python",
   "nbconvert_exporter": "python",
   "pygments_lexer": "ipython3",
   "version": "3.9.12"
  },
  "orig_nbformat": 4,
  "vscode": {
   "interpreter": {
    "hash": "7be5ceb45ecc01d76d2aaa941be200087e092eadf43a9283d763b237b63f38a7"
   }
  }
 },
 "nbformat": 4,
 "nbformat_minor": 2
}
